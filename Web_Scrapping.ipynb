{
 "cells": [
  {
   "cell_type": "code",
   "execution_count": 1,
   "id": "cba4a07f-9670-40ed-b173-97265b0e544b",
   "metadata": {},
   "outputs": [],
   "source": [
    "# Import Libraries\n",
    "import requests\n",
    "import pandas as pd\n",
    "from bs4 import BeautifulSoup"
   ]
  },
  {
   "cell_type": "code",
   "execution_count": 3,
   "id": "70e09b99-1e91-4b56-b89a-e74786d5775b",
   "metadata": {},
   "outputs": [],
   "source": [
    "# URL of the Wikipedia page to scrape\n",
    "url = \"https://en.wikipedia.org/wiki/List_of_largest_cities\""
   ]
  },
  {
   "cell_type": "code",
   "execution_count": 5,
   "id": "6e60f80f-8678-45fb-b96a-91c6b15c4148",
   "metadata": {},
   "outputs": [],
   "source": [
    "# Send a GET request to fetch the page content\n",
    "response = requests.get(url)\n",
    "soup = BeautifulSoup(response.content, 'html.parser')"
   ]
  },
  {
   "cell_type": "code",
   "execution_count": 7,
   "id": "9338fac4-cc68-4b73-8e38-f9c02bdbc29f",
   "metadata": {},
   "outputs": [],
   "source": [
    "# Find the table in the page with the 'wikitable' class\n",
    "table = soup.find('table', {'class': 'wikitable'})"
   ]
  },
  {
   "cell_type": "code",
   "execution_count": 9,
   "id": "7f0422c7-42b6-4e1a-b86a-56178c4e993c",
   "metadata": {},
   "outputs": [
    {
     "name": "stderr",
     "output_type": "stream",
     "text": [
      "C:\\Users\\Elroofey\\AppData\\Local\\Temp\\ipykernel_3656\\222931662.py:2: FutureWarning: Passing literal html to 'read_html' is deprecated and will be removed in a future version. To read from a literal string, wrap it in a 'StringIO' object.\n",
      "  df = pd.read_html(str(table))[0]\n"
     ]
    }
   ],
   "source": [
    "# Read the table into a pandas DataFrame\n",
    "df = pd.read_html(str(table))[0]"
   ]
  },
  {
   "cell_type": "code",
   "execution_count": 15,
   "id": "891856f5-f4bb-4716-8c76-c2eea3083805",
   "metadata": {},
   "outputs": [],
   "source": [
    "# Flatten the MultiIndex columns by joining them into single strings\n",
    "df.columns = [' '.join(col).strip() for col in df.columns.values]"
   ]
  },
  {
   "cell_type": "code",
   "execution_count": 17,
   "id": "ef9a65e5-079b-4707-b8b8-bcd9f46c5532",
   "metadata": {},
   "outputs": [
    {
     "name": "stdout",
     "output_type": "stream",
     "text": [
      "Flatten column names:\n",
      "Index(['City[a] City[a]', 'Country Country',\n",
      "       'UN 2024 population estimates[b] UN 2024 population estimates[b]',\n",
      "       'City proper[c] Definition', 'City proper[c] Population',\n",
      "       'City proper[c] Area (km2)', 'City proper[c] Density (/km2)',\n",
      "       'Urban area[8] Population', 'Urban area[8] Area (km2)',\n",
      "       'Urban area[8] Density (/km2)', 'Metropolitan area[d] Population',\n",
      "       'Metropolitan area[d] Area (km2)',\n",
      "       'Metropolitan area[d] Density (/km2)'],\n",
      "      dtype='object')\n"
     ]
    }
   ],
   "source": [
    "# Check the current column names to understand how to rename them\n",
    "print(\"Flattened column names:\")\n",
    "print(df.columns)"
   ]
  },
  {
   "cell_type": "code",
   "execution_count": 23,
   "id": "92d974ac-8e25-48d8-b1dc-cd0cae2ea488",
   "metadata": {},
   "outputs": [],
   "source": [
    "# Rename the relevant columns\n",
    "df.rename(columns={\n",
    "    'City[a] City[a]': 'City.a.', \n",
    "    'Country Country': 'Country', \n",
    "    'Urban area[8] Population': 'Population', \n",
    "    'Urban area[8] Area (km2)': 'Area.km2.', \n",
    "    'Urban area[8] Density (/km2)': 'Density..km2.'\n",
    "}, inplace=True)"
   ]
  },
  {
   "cell_type": "code",
   "execution_count": 27,
   "id": "99b86472-9254-4e2c-8c74-a6cd7f78f96b",
   "metadata": {},
   "outputs": [],
   "source": [
    "# Filter rows where 'Urban area' columns are relevant\n",
    "urban_area_df = df[['City.a.', 'Country', 'Population', 'Area.km2.', 'Density..km2.']].copy()"
   ]
  },
  {
   "cell_type": "code",
   "execution_count": 29,
   "id": "1eae002b-6fef-4972-a394-6c2739be69c6",
   "metadata": {},
   "outputs": [],
   "source": [
    "# Convert numeric columns to proper numeric types, ignoring errors for any malformed data\n",
    "urban_area_df['Population'] = pd.to_numeric(urban_area_df['Population'], errors='coerce')\n",
    "urban_area_df['Area.km2.'] = pd.to_numeric(urban_area_df['Area.km2.'], errors='coerce')\n",
    "urban_area_df['Density..km2.'] = pd.to_numeric(urban_area_df['Density..km2.'], errors='coerce')"
   ]
  },
  {
   "cell_type": "code",
   "execution_count": 31,
   "id": "d255f358-aa8a-413c-84cc-0cb26f68c84e",
   "metadata": {},
   "outputs": [],
   "source": [
    "# Drop rows with missing numeric data (optional, if necessary)\n",
    "urban_area_df.dropna(subset=['Population', 'Area.km2.', 'Density..km2.'], inplace=True)"
   ]
  },
  {
   "cell_type": "code",
   "execution_count": 33,
   "id": "711839b0-059c-4782-b0a2-79ff1d4ff96b",
   "metadata": {},
   "outputs": [],
   "source": [
    "# Reset the index to start from 1 for cleaner output\n",
    "urban_area_df.reset_index(drop=True, inplace=True)"
   ]
  },
  {
   "cell_type": "code",
   "execution_count": 35,
   "id": "ef7550a9-413a-46f3-b307-6ee3635e6a0a",
   "metadata": {},
   "outputs": [
    {
     "name": "stdout",
     "output_type": "stream",
     "text": [
      "       City.a.      Country  Population  Area.km2.  Density..km2.\n",
      "0    Chongqing        China  12135000.0     1580.0         7680.0\n",
      "1        Seoul  South Korea  23016000.0     2769.0         8312.0\n",
      "2        Dhaka   Bangladesh  18627000.0      619.0        30092.0\n",
      "3        Cairo        Egypt  20296000.0     2010.0        10098.0\n",
      "4  Mexico City       Mexico  21804000.0     2530.0         8618.0\n"
     ]
    }
   ],
   "source": [
    "# Display the first few rows of the resulting DataFrame\n",
    "print(urban_area_df.head())"
   ]
  },
  {
   "cell_type": "code",
   "execution_count": null,
   "id": "98622c11-632b-40fb-888e-b8469049f898",
   "metadata": {},
   "outputs": [],
   "source": []
  }
 ],
 "metadata": {
  "kernelspec": {
   "display_name": "Python 3 (ipykernel)",
   "language": "python",
   "name": "python3"
  },
  "language_info": {
   "codemirror_mode": {
    "name": "ipython",
    "version": 3
   },
   "file_extension": ".py",
   "mimetype": "text/x-python",
   "name": "python",
   "nbconvert_exporter": "python",
   "pygments_lexer": "ipython3",
   "version": "3.12.4"
  }
 },
 "nbformat": 4,
 "nbformat_minor": 5
}
